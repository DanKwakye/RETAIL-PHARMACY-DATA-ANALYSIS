{
 "cells": [
  {
   "cell_type": "code",
   "execution_count": 49,
   "id": "8cdb46e2-e61a-4fd4-9b15-d0117b6701a5",
   "metadata": {},
   "outputs": [],
   "source": [
    "import pandas as pd\n",
    "from faker import Faker\n",
    "import random\n",
    "from datetime import datetime, timedelta"
   ]
  },
  {
   "cell_type": "code",
   "execution_count": 50,
   "id": "293d8e02-68d9-4deb-bd7d-7c5bec96a502",
   "metadata": {},
   "outputs": [],
   "source": [
    "# Initialize the Faker instance\n",
    "fake = Faker()"
   ]
  },
  {
   "cell_type": "code",
   "execution_count": 51,
   "id": "66750e74-bbde-403f-933f-68a59db96f5f",
   "metadata": {},
   "outputs": [],
   "source": [
    "# List of common drug names\n",
    "drug_names = [\n",
    "    \"Aspirin\", \"Ibuprofen\", \"Paracetamol\", \"Amoxicillin\", \"Metformin\", \"Atorvastatin\",\n",
    "    \"Omeprazole\", \"Simvastatin\", \"Losartan\", \"Amlodipine\", \"Albuterol\", \"Lisinopril\",\n",
    "    \"Ciprofloxacin\", \"Doxycycline\", \"Hydrochlorothiazide\", \"Prednisone\", \"Warfarin\",\n",
    "    \"Metoprolol\", \"Furosemide\", \"Levothyroxine\", \"Gabapentin\", \"Azithromycin\", \"Pantoprazole\",\n",
    "    \"Citalopram\", \"Tramadol\", \"Trazodone\", \"Clonazepam\", \"Lorazepam\", \"Cephalexin\", \"Meloxicam\"\n",
    "]\n"
   ]
  },
  {
   "cell_type": "code",
   "execution_count": 52,
   "id": "d26dc718-fc45-4c83-a89d-0fdf5e106f90",
   "metadata": {},
   "outputs": [],
   "source": [
    "# list of common suppliers names\n",
    "supplier_names = ['Mccarthy-Shannon','Rodriguez Inc','Clark-Holt Ballard','Torres-Richmond',\n",
    "                  'Harris Inc','Fernandez-Leon','Hall-Cervantes','Clark LLC','Mercado-Carrillo',\n",
    "                  'Wilcox LLC','Johnson Group','Johnson-Miller','Smith-Craig','Castro Inc',\n",
    "                  'Stein-Stevens','Thompson-Lewis','West Group','Castro-Page','Wallace-Hutchinson',\n",
    "                  'Cruz-Obrien','Miller-Potter', 'Garcia-Fletcher','Wright PLC','Marshall-Peterson',\n",
    "                  'Nash-Smith','Kelly PLC','Lester-Garza','Webb PLC','Johnson-Roberts', 'Andrews-Cowan'\n",
    "                 ]"
   ]
  },
  {
   "cell_type": "code",
   "execution_count": 53,
   "id": "2ea8366b-caf3-4d27-8106-0c7c419ff6ac",
   "metadata": {},
   "outputs": [],
   "source": [
    "# Function to generate random dates\n",
    "def generate_date(start_date, end_date):\n",
    "    return start_date + timedelta(days=random.randint(0, (end_date - start_date).days))\n"
   ]
  },
  {
   "cell_type": "code",
   "execution_count": 54,
   "id": "5b778281-ebe0-4f5d-b9b6-1d9073600f6c",
   "metadata": {},
   "outputs": [],
   "source": [
    "# Generate data for Customers table\n",
    "def generate_customers(n):\n",
    "    data = []\n",
    "    for _ in range(n):\n",
    "        data.append({\n",
    "            'firstname': fake.first_name(),\n",
    "            'lastname': fake.last_name(),\n",
    "             'phonenumber': fake.phone_number(),\n",
    "            'drugname': random.choice(drug_names),\n",
    "            'drug_type': random.choice(['Tablet', 'Syrup', 'Suspension', 'Ointment']),\n",
    "            'gender': random.choice(['Male', 'Female']),\n",
    "            'supplier_name': random.choice(supplier_names)\n",
    "        })\n",
    "    return pd.DataFrame(data)"
   ]
  },
  {
   "cell_type": "code",
   "execution_count": 55,
   "id": "9ad9d2be-0fb8-4de9-a561-7c93a7d41b32",
   "metadata": {},
   "outputs": [],
   "source": [
    "# Generate data for Suppliers table\n",
    "def generate_suppliers(n):\n",
    "    data = []\n",
    "    for _ in range(n):\n",
    "        data.append({\n",
    "            'suppliername': random.choice(supplier_names),\n",
    "            'contactperson': fake.name(),\n",
    "            'phonenumber': fake.random_int(min=1000000000, max=9999999999),\n",
    "            'email': fake.email()\n",
    "        })\n",
    "    return pd.DataFrame(data)\n"
   ]
  },
  {
   "cell_type": "code",
   "execution_count": 56,
   "id": "35818103-4301-48fa-a3b9-3361c47eede3",
   "metadata": {},
   "outputs": [],
   "source": [
    "# Generate data for Stock table\n",
    "def generate_stock(n):\n",
    "    data = []\n",
    "    for _ in range(n):\n",
    "        data.append({\n",
    "            'drug_id': random.randint(1, 1000),\n",
    "            'deliverydate': generate_date(datetime(2020, 1, 1), datetime(2023, 12, 31)),\n",
    "            'drugtype': random.choice(['Tablet', 'Syrup', 'Suspension', 'Ointment']),\n",
    "            'quantity': random.randint(10, 1000),\n",
    "            'remainingstock': random.randint(0, 1000),\n",
    "            'expirydate': generate_date(datetime(2023, 1, 1), datetime(2025, 12, 31))\n",
    "        })\n",
    "    return pd.DataFrame(data)"
   ]
  },
  {
   "cell_type": "code",
   "execution_count": 57,
   "id": "c46ec464-a694-4ebe-83bb-2c09cc923e6b",
   "metadata": {},
   "outputs": [],
   "source": [
    "# Generate data for Drugs table\n",
    "def generate_drugs(n):\n",
    "    data = []\n",
    "    for _ in range(n):\n",
    "        data.append({\n",
    "            'drugname': random.choice(drug_names),\n",
    "            'suppliername': random.choice(supplier_names),\n",
    "            'expirydate': generate_date(datetime(2023, 1, 1), datetime(2025, 12, 31)),\n",
    "            'drugtype': random.choice(['Tablet', 'Syrup', 'Suspension', 'Ointment']),\n",
    "            'unitprice': round(random.uniform(1.0, 100.0), 2),\n",
    "            'stockquantity': random.randint(10, 1000),\n",
    "            'dosage': random.choice(['500mg', '250mg', '100mg'])\n",
    "        })\n",
    "    return pd.DataFrame(data)"
   ]
  },
  {
   "cell_type": "code",
   "execution_count": 58,
   "id": "11b1558a-01ab-4737-a2c1-72d09b63d110",
   "metadata": {},
   "outputs": [],
   "source": [
    "# Generate data for Staff table\n",
    "def generate_staff(n):\n",
    "    data = []\n",
    "    for _ in range(n):\n",
    "        data.append({\n",
    "            'firstname': fake.first_name(),\n",
    "            'lastname': fake.last_name(),\n",
    "            'address': fake.address()\n",
    "        })\n",
    "    return pd.DataFrame(data)"
   ]
  },
  {
   "cell_type": "code",
   "execution_count": 59,
   "id": "f14b0e08-dfa8-460e-a709-444c4a47bec7",
   "metadata": {},
   "outputs": [],
   "source": [
    "# Generate data for Sales table\n",
    "def generate_sales(n, customer_ids, drug_ids, staff_ids):\n",
    "    data = []\n",
    "    for _ in range(n):\n",
    "        quantity = random.randint(1, 50)\n",
    "        unit_price = round(random.uniform(1.0, 100.0), 2)\n",
    "        data.append({\n",
    "            'customer_id': random.choice(customer_ids),\n",
    "            'drugname': random.choice(drug_names),\n",
    "            'suppliername': random.choice(supplier_names),\n",
    "            'drug_type': random.choice(['Tablet', 'Syrup', 'Suspension', 'Ointment']),\n",
    "            'quantity': quantity,\n",
    "            'unit_price': unit_price,\n",
    "            'subtotal': round(quantity * unit_price, 2),\n",
    "            'staff_id': random.choice(staff_ids),\n",
    "            'sales_date': generate_date(datetime(2020, 1, 1), datetime(2023, 12, 31))\n",
    "        })\n",
    "    return pd.DataFrame(data)"
   ]
  },
  {
   "cell_type": "code",
   "execution_count": 60,
   "id": "2b8a2dfd-6aa8-47c6-a951-cc46a24d7a31",
   "metadata": {},
   "outputs": [],
   "source": [
    "# Generate data\n",
    "customers = generate_customers(1000)\n",
    "suppliers = generate_suppliers(100)\n",
    "drugs = generate_drugs(1000)\n",
    "staff = generate_staff(100)\n",
    "stock = generate_stock(1000)\n",
    "sales = generate_sales(1000, customers.index.tolist(), drugs.index.tolist(), staff.index.tolist())\n"
   ]
  },
  {
   "cell_type": "code",
   "execution_count": 61,
   "id": "1ee6512f-9878-4818-b490-0ce7df338495",
   "metadata": {},
   "outputs": [
    {
     "ename": "PermissionError",
     "evalue": "[Errno 13] Permission denied: 'sales.csv'",
     "output_type": "error",
     "traceback": [
      "\u001b[1;31m---------------------------------------------------------------------------\u001b[0m",
      "\u001b[1;31mPermissionError\u001b[0m                           Traceback (most recent call last)",
      "Cell \u001b[1;32mIn[61], line 7\u001b[0m\n\u001b[0;32m      5\u001b[0m staff\u001b[38;5;241m.\u001b[39mto_csv(\u001b[38;5;124m'\u001b[39m\u001b[38;5;124mstaff.csv\u001b[39m\u001b[38;5;124m'\u001b[39m, index\u001b[38;5;241m=\u001b[39m\u001b[38;5;28;01mFalse\u001b[39;00m)\n\u001b[0;32m      6\u001b[0m stock\u001b[38;5;241m.\u001b[39mto_csv(\u001b[38;5;124m'\u001b[39m\u001b[38;5;124mstock.csv\u001b[39m\u001b[38;5;124m'\u001b[39m, index\u001b[38;5;241m=\u001b[39m\u001b[38;5;28;01mFalse\u001b[39;00m)\n\u001b[1;32m----> 7\u001b[0m sales\u001b[38;5;241m.\u001b[39mto_csv(\u001b[38;5;124m'\u001b[39m\u001b[38;5;124msales.csv\u001b[39m\u001b[38;5;124m'\u001b[39m, index\u001b[38;5;241m=\u001b[39m\u001b[38;5;28;01mFalse\u001b[39;00m)\n",
      "File \u001b[1;32m~\\anaconda3\\Lib\\site-packages\\pandas\\util\\_decorators.py:333\u001b[0m, in \u001b[0;36mdeprecate_nonkeyword_arguments.<locals>.decorate.<locals>.wrapper\u001b[1;34m(*args, **kwargs)\u001b[0m\n\u001b[0;32m    327\u001b[0m \u001b[38;5;28;01mif\u001b[39;00m \u001b[38;5;28mlen\u001b[39m(args) \u001b[38;5;241m>\u001b[39m num_allow_args:\n\u001b[0;32m    328\u001b[0m     warnings\u001b[38;5;241m.\u001b[39mwarn(\n\u001b[0;32m    329\u001b[0m         msg\u001b[38;5;241m.\u001b[39mformat(arguments\u001b[38;5;241m=\u001b[39m_format_argument_list(allow_args)),\n\u001b[0;32m    330\u001b[0m         \u001b[38;5;167;01mFutureWarning\u001b[39;00m,\n\u001b[0;32m    331\u001b[0m         stacklevel\u001b[38;5;241m=\u001b[39mfind_stack_level(),\n\u001b[0;32m    332\u001b[0m     )\n\u001b[1;32m--> 333\u001b[0m \u001b[38;5;28;01mreturn\u001b[39;00m func(\u001b[38;5;241m*\u001b[39margs, \u001b[38;5;241m*\u001b[39m\u001b[38;5;241m*\u001b[39mkwargs)\n",
      "File \u001b[1;32m~\\anaconda3\\Lib\\site-packages\\pandas\\core\\generic.py:3964\u001b[0m, in \u001b[0;36mNDFrame.to_csv\u001b[1;34m(self, path_or_buf, sep, na_rep, float_format, columns, header, index, index_label, mode, encoding, compression, quoting, quotechar, lineterminator, chunksize, date_format, doublequote, escapechar, decimal, errors, storage_options)\u001b[0m\n\u001b[0;32m   3953\u001b[0m df \u001b[38;5;241m=\u001b[39m \u001b[38;5;28mself\u001b[39m \u001b[38;5;28;01mif\u001b[39;00m \u001b[38;5;28misinstance\u001b[39m(\u001b[38;5;28mself\u001b[39m, ABCDataFrame) \u001b[38;5;28;01melse\u001b[39;00m \u001b[38;5;28mself\u001b[39m\u001b[38;5;241m.\u001b[39mto_frame()\n\u001b[0;32m   3955\u001b[0m formatter \u001b[38;5;241m=\u001b[39m DataFrameFormatter(\n\u001b[0;32m   3956\u001b[0m     frame\u001b[38;5;241m=\u001b[39mdf,\n\u001b[0;32m   3957\u001b[0m     header\u001b[38;5;241m=\u001b[39mheader,\n\u001b[1;32m   (...)\u001b[0m\n\u001b[0;32m   3961\u001b[0m     decimal\u001b[38;5;241m=\u001b[39mdecimal,\n\u001b[0;32m   3962\u001b[0m )\n\u001b[1;32m-> 3964\u001b[0m \u001b[38;5;28;01mreturn\u001b[39;00m DataFrameRenderer(formatter)\u001b[38;5;241m.\u001b[39mto_csv(\n\u001b[0;32m   3965\u001b[0m     path_or_buf,\n\u001b[0;32m   3966\u001b[0m     lineterminator\u001b[38;5;241m=\u001b[39mlineterminator,\n\u001b[0;32m   3967\u001b[0m     sep\u001b[38;5;241m=\u001b[39msep,\n\u001b[0;32m   3968\u001b[0m     encoding\u001b[38;5;241m=\u001b[39mencoding,\n\u001b[0;32m   3969\u001b[0m     errors\u001b[38;5;241m=\u001b[39merrors,\n\u001b[0;32m   3970\u001b[0m     compression\u001b[38;5;241m=\u001b[39mcompression,\n\u001b[0;32m   3971\u001b[0m     quoting\u001b[38;5;241m=\u001b[39mquoting,\n\u001b[0;32m   3972\u001b[0m     columns\u001b[38;5;241m=\u001b[39mcolumns,\n\u001b[0;32m   3973\u001b[0m     index_label\u001b[38;5;241m=\u001b[39mindex_label,\n\u001b[0;32m   3974\u001b[0m     mode\u001b[38;5;241m=\u001b[39mmode,\n\u001b[0;32m   3975\u001b[0m     chunksize\u001b[38;5;241m=\u001b[39mchunksize,\n\u001b[0;32m   3976\u001b[0m     quotechar\u001b[38;5;241m=\u001b[39mquotechar,\n\u001b[0;32m   3977\u001b[0m     date_format\u001b[38;5;241m=\u001b[39mdate_format,\n\u001b[0;32m   3978\u001b[0m     doublequote\u001b[38;5;241m=\u001b[39mdoublequote,\n\u001b[0;32m   3979\u001b[0m     escapechar\u001b[38;5;241m=\u001b[39mescapechar,\n\u001b[0;32m   3980\u001b[0m     storage_options\u001b[38;5;241m=\u001b[39mstorage_options,\n\u001b[0;32m   3981\u001b[0m )\n",
      "File \u001b[1;32m~\\anaconda3\\Lib\\site-packages\\pandas\\io\\formats\\format.py:1014\u001b[0m, in \u001b[0;36mDataFrameRenderer.to_csv\u001b[1;34m(self, path_or_buf, encoding, sep, columns, index_label, mode, compression, quoting, quotechar, lineterminator, chunksize, date_format, doublequote, escapechar, errors, storage_options)\u001b[0m\n\u001b[0;32m    993\u001b[0m     created_buffer \u001b[38;5;241m=\u001b[39m \u001b[38;5;28;01mFalse\u001b[39;00m\n\u001b[0;32m    995\u001b[0m csv_formatter \u001b[38;5;241m=\u001b[39m CSVFormatter(\n\u001b[0;32m    996\u001b[0m     path_or_buf\u001b[38;5;241m=\u001b[39mpath_or_buf,\n\u001b[0;32m    997\u001b[0m     lineterminator\u001b[38;5;241m=\u001b[39mlineterminator,\n\u001b[1;32m   (...)\u001b[0m\n\u001b[0;32m   1012\u001b[0m     formatter\u001b[38;5;241m=\u001b[39m\u001b[38;5;28mself\u001b[39m\u001b[38;5;241m.\u001b[39mfmt,\n\u001b[0;32m   1013\u001b[0m )\n\u001b[1;32m-> 1014\u001b[0m csv_formatter\u001b[38;5;241m.\u001b[39msave()\n\u001b[0;32m   1016\u001b[0m \u001b[38;5;28;01mif\u001b[39;00m created_buffer:\n\u001b[0;32m   1017\u001b[0m     \u001b[38;5;28;01massert\u001b[39;00m \u001b[38;5;28misinstance\u001b[39m(path_or_buf, StringIO)\n",
      "File \u001b[1;32m~\\anaconda3\\Lib\\site-packages\\pandas\\io\\formats\\csvs.py:251\u001b[0m, in \u001b[0;36mCSVFormatter.save\u001b[1;34m(self)\u001b[0m\n\u001b[0;32m    247\u001b[0m \u001b[38;5;250m\u001b[39m\u001b[38;5;124;03m\"\"\"\u001b[39;00m\n\u001b[0;32m    248\u001b[0m \u001b[38;5;124;03mCreate the writer & save.\u001b[39;00m\n\u001b[0;32m    249\u001b[0m \u001b[38;5;124;03m\"\"\"\u001b[39;00m\n\u001b[0;32m    250\u001b[0m \u001b[38;5;66;03m# apply compression and byte/text conversion\u001b[39;00m\n\u001b[1;32m--> 251\u001b[0m \u001b[38;5;28;01mwith\u001b[39;00m get_handle(\n\u001b[0;32m    252\u001b[0m     \u001b[38;5;28mself\u001b[39m\u001b[38;5;241m.\u001b[39mfilepath_or_buffer,\n\u001b[0;32m    253\u001b[0m     \u001b[38;5;28mself\u001b[39m\u001b[38;5;241m.\u001b[39mmode,\n\u001b[0;32m    254\u001b[0m     encoding\u001b[38;5;241m=\u001b[39m\u001b[38;5;28mself\u001b[39m\u001b[38;5;241m.\u001b[39mencoding,\n\u001b[0;32m    255\u001b[0m     errors\u001b[38;5;241m=\u001b[39m\u001b[38;5;28mself\u001b[39m\u001b[38;5;241m.\u001b[39merrors,\n\u001b[0;32m    256\u001b[0m     compression\u001b[38;5;241m=\u001b[39m\u001b[38;5;28mself\u001b[39m\u001b[38;5;241m.\u001b[39mcompression,\n\u001b[0;32m    257\u001b[0m     storage_options\u001b[38;5;241m=\u001b[39m\u001b[38;5;28mself\u001b[39m\u001b[38;5;241m.\u001b[39mstorage_options,\n\u001b[0;32m    258\u001b[0m ) \u001b[38;5;28;01mas\u001b[39;00m handles:\n\u001b[0;32m    259\u001b[0m     \u001b[38;5;66;03m# Note: self.encoding is irrelevant here\u001b[39;00m\n\u001b[0;32m    260\u001b[0m     \u001b[38;5;28mself\u001b[39m\u001b[38;5;241m.\u001b[39mwriter \u001b[38;5;241m=\u001b[39m csvlib\u001b[38;5;241m.\u001b[39mwriter(\n\u001b[0;32m    261\u001b[0m         handles\u001b[38;5;241m.\u001b[39mhandle,\n\u001b[0;32m    262\u001b[0m         lineterminator\u001b[38;5;241m=\u001b[39m\u001b[38;5;28mself\u001b[39m\u001b[38;5;241m.\u001b[39mlineterminator,\n\u001b[1;32m   (...)\u001b[0m\n\u001b[0;32m    267\u001b[0m         quotechar\u001b[38;5;241m=\u001b[39m\u001b[38;5;28mself\u001b[39m\u001b[38;5;241m.\u001b[39mquotechar,\n\u001b[0;32m    268\u001b[0m     )\n\u001b[0;32m    270\u001b[0m     \u001b[38;5;28mself\u001b[39m\u001b[38;5;241m.\u001b[39m_save()\n",
      "File \u001b[1;32m~\\anaconda3\\Lib\\site-packages\\pandas\\io\\common.py:873\u001b[0m, in \u001b[0;36mget_handle\u001b[1;34m(path_or_buf, mode, encoding, compression, memory_map, is_text, errors, storage_options)\u001b[0m\n\u001b[0;32m    868\u001b[0m \u001b[38;5;28;01melif\u001b[39;00m \u001b[38;5;28misinstance\u001b[39m(handle, \u001b[38;5;28mstr\u001b[39m):\n\u001b[0;32m    869\u001b[0m     \u001b[38;5;66;03m# Check whether the filename is to be opened in binary mode.\u001b[39;00m\n\u001b[0;32m    870\u001b[0m     \u001b[38;5;66;03m# Binary mode does not support 'encoding' and 'newline'.\u001b[39;00m\n\u001b[0;32m    871\u001b[0m     \u001b[38;5;28;01mif\u001b[39;00m ioargs\u001b[38;5;241m.\u001b[39mencoding \u001b[38;5;129;01mand\u001b[39;00m \u001b[38;5;124m\"\u001b[39m\u001b[38;5;124mb\u001b[39m\u001b[38;5;124m\"\u001b[39m \u001b[38;5;129;01mnot\u001b[39;00m \u001b[38;5;129;01min\u001b[39;00m ioargs\u001b[38;5;241m.\u001b[39mmode:\n\u001b[0;32m    872\u001b[0m         \u001b[38;5;66;03m# Encoding\u001b[39;00m\n\u001b[1;32m--> 873\u001b[0m         handle \u001b[38;5;241m=\u001b[39m \u001b[38;5;28mopen\u001b[39m(\n\u001b[0;32m    874\u001b[0m             handle,\n\u001b[0;32m    875\u001b[0m             ioargs\u001b[38;5;241m.\u001b[39mmode,\n\u001b[0;32m    876\u001b[0m             encoding\u001b[38;5;241m=\u001b[39mioargs\u001b[38;5;241m.\u001b[39mencoding,\n\u001b[0;32m    877\u001b[0m             errors\u001b[38;5;241m=\u001b[39merrors,\n\u001b[0;32m    878\u001b[0m             newline\u001b[38;5;241m=\u001b[39m\u001b[38;5;124m\"\u001b[39m\u001b[38;5;124m\"\u001b[39m,\n\u001b[0;32m    879\u001b[0m         )\n\u001b[0;32m    880\u001b[0m     \u001b[38;5;28;01melse\u001b[39;00m:\n\u001b[0;32m    881\u001b[0m         \u001b[38;5;66;03m# Binary mode\u001b[39;00m\n\u001b[0;32m    882\u001b[0m         handle \u001b[38;5;241m=\u001b[39m \u001b[38;5;28mopen\u001b[39m(handle, ioargs\u001b[38;5;241m.\u001b[39mmode)\n",
      "\u001b[1;31mPermissionError\u001b[0m: [Errno 13] Permission denied: 'sales.csv'"
     ]
    }
   ],
   "source": [
    "# Save to CSV without index column\n",
    "customers.to_csv('customers.csv', index=False)\n",
    "suppliers.to_csv('suppliers.csv', index=False)\n",
    "drugs.to_csv('drugs.csv', index=False)\n",
    "staff.to_csv('staff.csv', index=False)\n",
    "stock.to_csv('stock.csv', index=False)\n",
    "sales.to_csv('sales.csv', index=False)"
   ]
  },
  {
   "cell_type": "code",
   "execution_count": null,
   "id": "a9a400f5-6e28-498e-9adb-063c8b4fcc53",
   "metadata": {},
   "outputs": [],
   "source": []
  }
 ],
 "metadata": {
  "kernelspec": {
   "display_name": "Python 3 (ipykernel)",
   "language": "python",
   "name": "python3"
  },
  "language_info": {
   "codemirror_mode": {
    "name": "ipython",
    "version": 3
   },
   "file_extension": ".py",
   "mimetype": "text/x-python",
   "name": "python",
   "nbconvert_exporter": "python",
   "pygments_lexer": "ipython3",
   "version": "3.11.7"
  }
 },
 "nbformat": 4,
 "nbformat_minor": 5
}
